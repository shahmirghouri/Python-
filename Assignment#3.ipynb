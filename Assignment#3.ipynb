{
 "cells": [
  {
   "cell_type": "code",
   "execution_count": 6,
   "metadata": {},
   "outputs": [
    {
     "name": "stdout",
     "output_type": "stream",
     "text": [
      "enter 1st number :5\n",
      "enter 2nd number :3\n",
      "Enter you desired arithmetic opereation ( i.e *,/,+,- ) :+\n",
      "\n",
      "result is : 8\n"
     ]
    }
   ],
   "source": [
    "var1= int(input(\"enter 1st number :\"))\n",
    "var2= int(input(\"enter 2nd number :\"))\n",
    "choice=input(\"Enter you desired arithmetic opereation ( i.e *,/,+,- ) :\")\n",
    "if choice == '*':\n",
    "    print(\"\\nresult is :\",var1*var2)\n",
    "elif choice =='/':\n",
    "    print(\"\\nresult is :\",var1/var2)\n",
    "elif choice =='+':\n",
    "    print(\"\\nresult is :\",var1+var2)\n",
    "elif choice=='-':\n",
    "    print(\"\\nresult is :\",var1-var2)\n",
    "else:\n",
    "    print(\"you hvae entered wrong/incorrect arithmetic opereation : \")"
   ]
  },
  {
   "cell_type": "code",
   "execution_count": 29,
   "metadata": {},
   "outputs": [
    {
     "name": "stdout",
     "output_type": "stream",
     "text": [
      "DIGIT is present is list\n"
     ]
    }
   ],
   "source": [
    "my_list=['a','e','&','2','f']\n",
    "for i in my_list:\n",
    "    if(ord(i)>=48 and ord(i)<=57):\n",
    "        print(\"DIGIT is present is list\")\n",
    "        \n",
    "        "
   ]
  },
  {
   "cell_type": "code",
   "execution_count": 34,
   "metadata": {},
   "outputs": [
    {
     "data": {
      "text/plain": [
       "{2, 5, 7, 9, 10}"
      ]
     },
     "execution_count": 34,
     "metadata": {},
     "output_type": "execute_result"
    }
   ],
   "source": [
    "my_list={2,5,7,9}\n",
    "my_list.update({10})\n",
    "my_list"
   ]
  },
  {
   "cell_type": "code",
   "execution_count": 39,
   "metadata": {},
   "outputs": [
    {
     "name": "stdout",
     "output_type": "stream",
     "text": [
      "15\n"
     ]
    }
   ],
   "source": [
    "my_list={1,2,3,4,5}\n",
    "var = 0\n",
    "for i in my_list:\n",
    "    var=var+i\n",
    "print(var)\n",
    "        "
   ]
  },
  {
   "cell_type": "code",
   "execution_count": 42,
   "metadata": {},
   "outputs": [
    {
     "name": "stdout",
     "output_type": "stream",
     "text": [
      "[1, 2, 3]\n"
     ]
    }
   ],
   "source": [
    "my_list=[1,2,3,4,2,3,3,1]\n",
    "size_of_list=len(my_list)\n",
    "repeted_list=[]\n",
    "for i in range(size_of_list):\n",
    "    x=i+1\n",
    "    for j in range(x,size_of_list):\n",
    "        if my_list[i]==my_list[j] and my_list[i] not in repeted_list:\n",
    "            repeted_list.append(my_list[i])\n",
    "\n",
    "print(repeted_list)"
   ]
  },
  {
   "cell_type": "code",
   "execution_count": 53,
   "metadata": {},
   "outputs": [
    {
     "name": "stdout",
     "output_type": "stream",
     "text": [
      "enter a key to check : 2\n",
      "present\n"
     ]
    }
   ],
   "source": [
    "my_list={1,2,3,4,5}\n",
    "key=int(input(\"enter a key to check : \"))\n",
    "if key in my_list:\n",
    "    print(\"present\")\n",
    "else:\n",
    "    print(\"not present\")"
   ]
  },
  {
   "cell_type": "code",
   "execution_count": null,
   "metadata": {},
   "outputs": [],
   "source": []
  },
  {
   "cell_type": "code",
   "execution_count": null,
   "metadata": {},
   "outputs": [],
   "source": []
  }
 ],
 "metadata": {
  "kernelspec": {
   "display_name": "Python 3",
   "language": "python",
   "name": "python3"
  },
  "language_info": {
   "codemirror_mode": {
    "name": "ipython",
    "version": 3
   },
   "file_extension": ".py",
   "mimetype": "text/x-python",
   "name": "python",
   "nbconvert_exporter": "python",
   "pygments_lexer": "ipython3",
   "version": "3.7.4"
  }
 },
 "nbformat": 4,
 "nbformat_minor": 2
}
