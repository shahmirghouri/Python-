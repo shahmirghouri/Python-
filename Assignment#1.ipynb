{
 "cells": [
  {
   "cell_type": "code",
   "execution_count": 1,
   "metadata": {},
   "outputs": [
    {
     "name": "stdout",
     "output_type": "stream",
     "text": [
      "Twinkle, twinkle, little star,\n",
      "      How I wonder what you are!\n",
      "            Up above the world so high,\n",
      "            Like a diamond in the sky.\n",
      "Twinkle, twinkle, little star,\n",
      "      How I wonder what you are!\n"
     ]
    }
   ],
   "source": [
    "print('Twinkle, twinkle, little star,')\n",
    "print('      How I wonder what you are!')\n",
    "print('            Up above the world so high,')\n",
    "print('            Like a diamond in the sky.')\n",
    "print('Twinkle, twinkle, little star,')\n",
    "print('      How I wonder what you are!')"
   ]
  },
  {
   "cell_type": "code",
   "execution_count": 5,
   "metadata": {},
   "outputs": [
    {
     "name": "stdout",
     "output_type": "stream",
     "text": [
      "Python version : \n",
      "3.7.4 (default, Aug  9 2019, 18:34:13) [MSC v.1915 64 bit (AMD64)]\n",
      "\n",
      "Version information : \n",
      "sys.version_info(major=3, minor=7, micro=4, releaselevel='final', serial=0)\n"
     ]
    }
   ],
   "source": [
    "import sys \n",
    "\n",
    "print (\"Python version : \")\n",
    "print (sys.version)\n",
    "print (\"\\nVersion information : \")\n",
    "print (sys.version_info)"
   ]
  },
  {
   "cell_type": "code",
   "execution_count": 6,
   "metadata": {},
   "outputs": [
    {
     "name": "stdout",
     "output_type": "stream",
     "text": [
      "Current Date & Time is :\n",
      "22-11-19  14:28:41\n"
     ]
    }
   ],
   "source": [
    "import datetime \n",
    "\n",
    "now = datetime.datetime.now()\n",
    "print (\"Current Date & Time is :\")\n",
    "print (now.strftime(\"%d-%m-%y  %H:%M:%S\"))"
   ]
  },
  {
   "cell_type": "code",
   "execution_count": 7,
   "metadata": {},
   "outputs": [
    {
     "name": "stdout",
     "output_type": "stream",
     "text": [
      "Enter radius value: 5\n",
      "Area of a circle is:  78.5\n"
     ]
    }
   ],
   "source": [
    "radius = int(input(\"Enter radius value : \"))\n",
    "Pi = 3.14\n",
    "Result =  Pi * radius**2\n",
    "print(\"Area of a circle is : \", Result)"
   ]
  },
  {
   "cell_type": "code",
   "execution_count": 9,
   "metadata": {},
   "outputs": [
    {
     "name": "stdout",
     "output_type": "stream",
     "text": [
      "Enter your first name: ASAD\n",
      "Enter your last name: SHAHMIR\n",
      "You entered:  ASAD SHAHMIR  as your full name\n"
     ]
    }
   ],
   "source": [
    "f_name = input(\"Enter your first name : \")\n",
    "l_name = input(\"Enter your last name : \")\n",
    "f_name = f_name + \" \" + l_name\n",
    "print(\"You entered  \", f_name, \" as your full name\")"
   ]
  },
  {
   "cell_type": "code",
   "execution_count": null,
   "metadata": {},
   "outputs": [],
   "source": [
    "var1 = int(input(\"Enter First Number : \"))\n",
    "var2 = int(input(\"Enter Second Number : \"))\n",
    "sum_is= var1+var2\n",
    "print(\"The sum is  : \", sum_is)"
   ]
  },
  {
   "cell_type": "code",
   "execution_count": null,
   "metadata": {},
   "outputs": [],
   "source": []
  }
 ],
 "metadata": {
  "kernelspec": {
   "display_name": "Python 3",
   "language": "python",
   "name": "python3"
  },
  "language_info": {
   "codemirror_mode": {
    "name": "ipython",
    "version": 3
   },
   "file_extension": ".py",
   "mimetype": "text/x-python",
   "name": "python",
   "nbconvert_exporter": "python",
   "pygments_lexer": "ipython3",
   "version": "3.7.4"
  }
 },
 "nbformat": 4,
 "nbformat_minor": 2
}
