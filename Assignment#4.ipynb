{
 "cells": [
  {
   "cell_type": "code",
   "execution_count": 1,
   "metadata": {},
   "outputs": [
    {
     "name": "stdout",
     "output_type": "stream",
     "text": [
      "Student Qualication:  {'First_Name': 'Asad', 'Last_Name': 'Ali', 'Age': 24, 'City': 'Karachi'}\n",
      "Update Qualification:  {'First_Name': 'Asad', 'Last_Name': 'Ali', 'Age': 24, 'City': 'Karachi', 'Qualification': 'Bachelor'}\n",
      "Update Qualification Level {'First_Name': 'Asad', 'Last_Name': 'Ali', 'Age': 24, 'City': 'Karachi', 'Qualification': 'Ph.D'}\n",
      "Delete Qualification:  {'First_Name': 'Asad', 'Last_Name': 'Ali', 'Age': 24, 'City': 'Karachi'}\n"
     ]
    }
   ],
   "source": [
    "my_dictionary = {\"First_Name\": \"Asad\", \"Last_Name\": \"Ali\", \"Age\": 24, \"City\": \"Karachi\"}\n",
    "\n",
    "print(\"Student Qualication: \", my_dictionary)\n",
    "\n",
    "my_dictionary.update( {\"Qualification\": \"Bachelor\"} )\n",
    "\n",
    "print(\"Update Qualification: \", my_dictionary)\n",
    "\n",
    "my_dictionary.update( {\"Qualification\": \"Ph.D\"} )\n",
    "\n",
    "print(\"Update Qualification Level\", my_dictionary)\n",
    "\n",
    "del my_dictionary[\"Qualification\"]\n",
    "\n",
    "print(\"Delete Qualification: \", my_dictionary)"
   ]
  },
  {
   "cell_type": "code",
   "execution_count": 3,
   "metadata": {},
   "outputs": [
    {
     "name": "stdout",
     "output_type": "stream",
     "text": [
      "Karachi {'Country': 'Paksitan', 'Population': 14910000, 'Fact': 'It is the Sixth largest city in the world by city population.'}\n",
      "Belin {'Country': 'Germany', 'Population': 3748000, 'Fact': \"Berlin has the world's largest Turkish population outside of Turkey.\"}\n",
      "New_York {'Country': 'United States', 'Population': 8623000, 'Fact': 'There is a birth in NYC every 4.4 minutes.'}\n"
     ]
    }
   ],
   "source": [
    "cities = { \n",
    "      \"Karachi\": { \n",
    "      \"Country\": \"Paksitan\", \n",
    "      \"Population\": 14910000, \n",
    "      \"Fact\": \"It is the Sixth largest city in the world by city population.\"},\n",
    "\n",
    "      \"Belin\":{\n",
    "      \"Country\": \"Germany\",\n",
    "      \"Population\": 3748000, \n",
    "      \"Fact\": \"Berlin has the world's largest Turkish population outside of Turkey.\"},\n",
    "\n",
    "      \"New_York\":{\n",
    "      \"Country\": \"United States\", \n",
    "      \"Population\": 8623000, \n",
    "      \"Fact\": \"There is a birth in NYC every 4.4 minutes.\"},\n",
    "}\n",
    "for a,b in cities.items():\n",
    "    print(a,b)"
   ]
  },
  {
   "cell_type": "code",
   "execution_count": 4,
   "metadata": {},
   "outputs": [
    {
     "name": "stdout",
     "output_type": "stream",
     "text": [
      "Enter your age: 1\n",
      "Your ticket is free\n"
     ]
    }
   ],
   "source": [
    "for a in range(3):\n",
    "    age = int(input(\"Enter your age: \"))\n",
    "    if age <= 3:\n",
    "        print(\"Your ticket is free\")\n",
    "        break\n",
    "    if age >3 and age <=12:\n",
    "        print(\"Your ticket price is $10\")\n",
    "        break\n",
    "    if age > 12:\n",
    "        print(\"Your ticket price is $15\")\n",
    "        break"
   ]
  },
  {
   "cell_type": "code",
   "execution_count": 5,
   "metadata": {},
   "outputs": [
    {
     "name": "stdout",
     "output_type": "stream",
     "text": [
      "A Smarter Way to Learn Python is one of my favourite book.\n"
     ]
    }
   ],
   "source": [
    "def favourite_book(title):\n",
    "      print(title + \"is one of my favourite book.\")\n",
    "favourite_book(\"A Smarter Way to Learn Python \")"
   ]
  },
  {
   "cell_type": "code",
   "execution_count": 7,
   "metadata": {},
   "outputs": [
    {
     "name": "stdout",
     "output_type": "stream",
     "text": [
      "Hint: Enter Numbers in between 1 to 30\n",
      "Hint: Choose the number in betwwen 1 to 10\n",
      "Enter Your Guess: 1\n",
      "Try Again\n",
      "Enter Your Guess: 2\n",
      "Try Again\n",
      "Enter Your Guess: 3\n",
      "Try Again\n"
     ]
    }
   ],
   "source": [
    "import random\n",
    "print(\"Hint: Enter Numbers in between 1 to 30\")\n",
    "\n",
    "\n",
    "randomNumber = random.randint(1,30)\n",
    "\n",
    "if randomNumber >= 1 and randomNumber <=10:\n",
    "      print(\"Hint: Choose the number in betwwen 1 to 10\")\n",
    "      \n",
    "elif randomNumber > 10 and randomNumber <=20:\n",
    "      print(\"Hint: Choose the number in betwwen 11 to 20\")\n",
    "      \n",
    "elif randomNumber > 20 and randomNumber <=30:\n",
    "      print(\"Hint: Choose the number in betwwen 21 to 30\")\n",
    "      \n",
    "for i in range(0,3):\n",
    "      Userinput = int(input(\"Enter Your Guess: \"))\n",
    "      if Userinput < 1 or Userinput > 30:\n",
    "            print(\"Guess the numbers in between 1 to 30\")\n",
    "      else:\n",
    "            if Userinput == randomNumber:\n",
    "                  print(\"Your guess is right, YOU WON!!!\")\n",
    "                  break\n",
    "            else:\n",
    "                  print(\"Try Again\")"
   ]
  },
  {
   "cell_type": "code",
   "execution_count": null,
   "metadata": {},
   "outputs": [],
   "source": []
  },
  {
   "cell_type": "code",
   "execution_count": null,
   "metadata": {},
   "outputs": [],
   "source": []
  }
 ],
 "metadata": {
  "kernelspec": {
   "display_name": "Python 3",
   "language": "python",
   "name": "python3"
  },
  "language_info": {
   "codemirror_mode": {
    "name": "ipython",
    "version": 3
   },
   "file_extension": ".py",
   "mimetype": "text/x-python",
   "name": "python",
   "nbconvert_exporter": "python",
   "pygments_lexer": "ipython3",
   "version": "3.7.4"
  }
 },
 "nbformat": 4,
 "nbformat_minor": 2
}
