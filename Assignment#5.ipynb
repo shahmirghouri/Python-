{
 "cells": [
  {
   "cell_type": "code",
   "execution_count": 1,
   "metadata": {},
   "outputs": [
    {
     "name": "stdout",
     "output_type": "stream",
     "text": [
      "Factorial Of: 2\n",
      "The Factorial Of 2 is:  2\n"
     ]
    }
   ],
   "source": [
    "import math \n",
    "  \n",
    "def function(number):\n",
    "\n",
    "      if userInput >= 0:\n",
    "            print(\"The Factorial Of\", userInput, \"is: \", math.factorial(number))\n",
    "\n",
    "      else:\n",
    "            print(\"Please Enter Positive Integer Number\")\n",
    "\n",
    "userInput = int(input(\"Factorial Of: \"))\n",
    "function(userInput)"
   ]
  },
  {
   "cell_type": "code",
   "execution_count": 2,
   "metadata": {},
   "outputs": [
    {
     "name": "stdout",
     "output_type": "stream",
     "text": [
      "Enter Your Name: ws\n",
      "No. of Upper case characters are: 0\n",
      "No. of lower case characters are: 2\n"
     ]
    }
   ],
   "source": [
    "def check(string):      \n",
    "    upper = sum(1 for i in string if i.isupper())\n",
    "    lower = sum(1 for i in string if i.islower())\n",
    "    print(\"No. of Upper case characters are: %s\" % (upper))\n",
    "    print(\"No. of lower case characters are: %s\" % (lower))\n",
    "\n",
    "userInput = input(\"Enter Your Name: \")\n",
    "check(userInput)"
   ]
  },
  {
   "cell_type": "code",
   "execution_count": 3,
   "metadata": {},
   "outputs": [
    {
     "name": "stdout",
     "output_type": "stream",
     "text": [
      "[2, 4, 6, 8, 10]\n"
     ]
    }
   ],
   "source": [
    "def check(even):\n",
    "    numbers = []\n",
    "    for i in even:\n",
    "        if i % 2 == 0:\n",
    "            numbers.append(i)\n",
    "    return numbers\n",
    "print(check([1, 2, 3, 4, 5, 6, 7, 8, 9, 10]))"
   ]
  },
  {
   "cell_type": "code",
   "execution_count": 5,
   "metadata": {},
   "outputs": [
    {
     "name": "stdout",
     "output_type": "stream",
     "text": [
      "True\n"
     ]
    }
   ],
   "source": [
    "   def Palindrome(string):\n",
    "    left_side = 0\n",
    "    right_side = len(string) - 1\n",
    "\n",
    "    while right_side >= left_side:\n",
    "        if not string[left_side] == string[right_side]:\n",
    "            return False\n",
    "        left_side += 1\n",
    "        right_side -= 1\n",
    "    return True\n",
    "print(Palindrome('mom'))\n"
   ]
  },
  {
   "cell_type": "code",
   "execution_count": 6,
   "metadata": {},
   "outputs": [
    {
     "name": "stdout",
     "output_type": "stream",
     "text": [
      "Enter the number: 3\n",
      "Prime\n"
     ]
    }
   ],
   "source": [
    "def prime(number):\n",
    "    if (number==1):\n",
    "        return \"not prime\"\n",
    "    elif (number==2):\n",
    "        return \"Prime\"\n",
    "    else:\n",
    "        for x in range(2, number):\n",
    "            if(number % x==0):\n",
    "                return \"not prime\"\n",
    "        return \"Prime\"  \n",
    "\n",
    "userInput=int(input(\"Enter the number: \"))\n",
    "print(prime(userInput))"
   ]
  },
  {
   "cell_type": "code",
   "execution_count": 7,
   "metadata": {},
   "outputs": [
    {
     "name": "stdout",
     "output_type": "stream",
     "text": [
      "Your Shopping List are:\n",
      "Rise\n",
      "Meat\n",
      "Milk\n",
      "Tomato\n",
      "Sugar\n",
      "Salt\n"
     ]
    }
   ],
   "source": [
    "print(\"Your Shopping List are:\")\n",
    "def shop(*products):\n",
    "    for product in products:\n",
    "           print(product)\n",
    "\n",
    "shop(\"Rise\",\"Meat\",\"Milk\",\"Tomato\",\"Sugar\",\"Salt\")"
   ]
  },
  {
   "cell_type": "code",
   "execution_count": null,
   "metadata": {},
   "outputs": [],
   "source": []
  }
 ],
 "metadata": {
  "kernelspec": {
   "display_name": "Python 3",
   "language": "python",
   "name": "python3"
  },
  "language_info": {
   "codemirror_mode": {
    "name": "ipython",
    "version": 3
   },
   "file_extension": ".py",
   "mimetype": "text/x-python",
   "name": "python",
   "nbconvert_exporter": "python",
   "pygments_lexer": "ipython3",
   "version": "3.7.4"
  }
 },
 "nbformat": 4,
 "nbformat_minor": 2
}
