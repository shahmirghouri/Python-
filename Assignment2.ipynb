{
 "cells": [
  {
   "cell_type": "code",
   "execution_count": 4,
   "metadata": {},
   "outputs": [
    {
     "name": "stdout",
     "output_type": "stream",
     "text": [
      "Please enter your PHYSICS marks98\n",
      "Please enter your URDU marks56\n",
      "Please enter your ENGLISH marks98\n",
      "Please enter your CHEMISTRY marks32\n",
      "Please enter your MATHS marks65\n",
      "You have obtained  349  marks\n",
      "Your Persentage is  69.8\n",
      "B Grade\n"
     ]
    }
   ],
   "source": [
    "phy=int(input(\"Please enter your PHYSICS marks\"));\n",
    "u=int(input(\"Please enter your URDU marks\"));\n",
    "eng=int(input(\"Please enter your ENGLISH marks\"));\n",
    "chem=int(input(\"Please enter your CHEMISTRY marks\"));\n",
    "mt=int(input(\"Please enter your MATHS marks\"));\n",
    "\n",
    "t_marks=500;\n",
    "o_marks=phy+u+eng+chem+mt;\n",
    "percentage=(o_marks/t_marks)*100;\n",
    "\n",
    "print(\"You have obtained \", o_marks,\" marks\");\n",
    "\n",
    "print(\"Your Persentage is \", percentage);\n",
    "\n",
    "if percentage >= 80 and percentage <= 100:\n",
    "  print(\"A1 Grade\");\n",
    "\n",
    "elif percentage >= 70 and percentage < 80:\n",
    "  print(\"A Grade\");\n",
    "\n",
    "elif percentage >= 60 and percentage < 70:\n",
    "  print(\"B Grade\");\n",
    "\n",
    "elif percentage >= 50 and percentage < 60:\n",
    "  print(\"C Grade\");\n",
    "\n",
    "else:\n",
    "  print(\"Sorry!!! you are Failed\");"
   ]
  },
  {
   "cell_type": "code",
   "execution_count": 6,
   "metadata": {},
   "outputs": [
    {
     "name": "stdout",
     "output_type": "stream",
     "text": [
      "Please enter a Number 17\n",
      "entered number is ODD\n"
     ]
    }
   ],
   "source": [
    "\n",
    "var1 = int(input(\"Please enter a Number \"));\n",
    "if var1%2 == 0:\n",
    "    print(\"Entered number is EVEN\");\n",
    "else:\n",
    "    print(\"entered number is ODD\");"
   ]
  },
  {
   "cell_type": "code",
   "execution_count": 8,
   "metadata": {},
   "outputs": [
    {
     "name": "stdout",
     "output_type": "stream",
     "text": [
      "The length of the array is  5\n"
     ]
    }
   ],
   "source": [
    "arr1 = [\"shhamir\",\"ghouri\",\"asad\",\"ahmed\",\"yasir\"]\n",
    "print(\"The length of the array is \", len(arr1));"
   ]
  },
  {
   "cell_type": "code",
   "execution_count": 9,
   "metadata": {},
   "outputs": [
    {
     "name": "stdout",
     "output_type": "stream",
     "text": [
      "Sum of array is:  10\n"
     ]
    }
   ],
   "source": [
    "arr2 = [1, 2, 3, 4];\n",
    "sum1 = sum(arr2)\n",
    "print(\"Sum of array is: \",sum1);"
   ]
  },
  {
   "cell_type": "code",
   "execution_count": 10,
   "metadata": {},
   "outputs": [
    {
     "name": "stdout",
     "output_type": "stream",
     "text": [
      "the largest number is:  22\n"
     ]
    }
   ],
   "source": [
    "arr3 = [1,8,4,13,22];\n",
    "print(\"the largest number is: \", max(arr3));"
   ]
  },
  {
   "cell_type": "code",
   "execution_count": 11,
   "metadata": {},
   "outputs": [
    {
     "name": "stdout",
     "output_type": "stream",
     "text": [
      "result is:  1\n",
      "result is:  1\n",
      "result is:  2\n",
      "result is:  3\n"
     ]
    }
   ],
   "source": [
    "arr4 = [1, 1, 2, 3, 5, 8, 13, 21, 34, 55, 89];\n",
    "for x in arr4: \n",
    "    if x < 5: \n",
    "       print(\"result is: \", x);"
   ]
  },
  {
   "cell_type": "code",
   "execution_count": null,
   "metadata": {},
   "outputs": [],
   "source": []
  }
 ],
 "metadata": {
  "kernelspec": {
   "display_name": "Python 3",
   "language": "python",
   "name": "python3"
  },
  "language_info": {
   "codemirror_mode": {
    "name": "ipython",
    "version": 3
   },
   "file_extension": ".py",
   "mimetype": "text/x-python",
   "name": "python",
   "nbconvert_exporter": "python",
   "pygments_lexer": "ipython3",
   "version": "3.7.4"
  }
 },
 "nbformat": 4,
 "nbformat_minor": 2
}
